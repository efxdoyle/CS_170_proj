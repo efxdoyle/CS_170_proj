{
 "cells": [
  {
   "cell_type": "code",
   "execution_count": 1,
   "metadata": {
    "collapsed": false
   },
   "outputs": [],
   "source": [
    "import numpy as np\n",
    "import time                                                \n",
    "\n",
    "def timeit(method):\n",
    "\n",
    "    def timed(*args, **kw):\n",
    "        ts = time.time()\n",
    "        result = method(*args, **kw)\n",
    "        te = time.time()\n",
    "\n",
    "        print('%r (%r, %r) %2.2f sec' % \\\n",
    "              (method.__name__, args, kw, te-ts))\n",
    "        return result\n",
    "\n",
    "    return timed\n",
    "\n",
    "X = None\n",
    "y = None"
   ]
  },
  {
   "cell_type": "code",
   "execution_count": 2,
   "metadata": {
    "collapsed": true
   },
   "outputs": [],
   "source": [
    "def index(lst):\n",
    "    return lst[0]\n",
    "\n",
    "def clas(lst):\n",
    "    return lst[1]\n",
    "\n",
    "def wt(lst):\n",
    "    return lst[2]\n",
    "\n",
    "def cst(lst):\n",
    "    return lst[3]\n",
    "\n",
    "def val(lst):\n",
    "    return lst[4]\n",
    "\n",
    "def eff(lst):\n",
    "    return lst[5]\n",
    "\n",
    "def profit(cost, resale):\n",
    "    return resale - cost\n",
    "\n",
    "class Problem(object):\n",
    "    def __init__(self, f):\n",
    "        self.filename = f\n",
    "        self.read = False\n",
    "        self.v = [0, 0, 0, 0] # contains variables P, M, N, C\n",
    "        self.names = [] # maps index to item name\n",
    "        self.X = None # data matrix of [number, class, weight, cost, value]\n",
    "        self.sets = [] # lists of incompatible classes\n",
    "        self.ordering = () # indices of cut X in order of decreasing efficiency\n",
    "\n",
    "    def P(self):\n",
    "        return self.v[0]\n",
    "    \n",
    "    def M(self):\n",
    "        return self.v[1]\n",
    "    \n",
    "    def N(self):\n",
    "        return self.v[2]\n",
    "    \n",
    "    def C(self):\n",
    "        return self.v[3] \n",
    "    \n",
    "    @timeit\n",
    "    def readFile(self):\n",
    "        if self.read:\n",
    "            raise Exception('already read')\n",
    "        with open(self.filename) as f:\n",
    "            self.readVar(f)\n",
    "            self.readItems(f)\n",
    "            self.readIncomp(f)\n",
    "        self.read = True\n",
    "\n",
    "    def readVar(self, f):\n",
    "        for i in range(4):\n",
    "            self.v[i] = float(f.readline())\n",
    "        self.v[2], self.v[3] = int(self.v[2]), int(self.v[3])\n",
    "            \n",
    "    def readItems(self, f):\n",
    "        for i in range(self.N()):\n",
    "            x = f.readline().split(';')\n",
    "            self.names += [x[0]]\n",
    "            x[0] = i\n",
    "            x = [float(s) for s in x]\n",
    "            if i == 0:\n",
    "                self.X = np.array(x, dtype = 'float64')\n",
    "            else:\n",
    "                self.X = np.vstack((self.X, x))\n",
    "                \n",
    "    def readIncomp(self, f):\n",
    "        for i in range(self.C()):\n",
    "            self.sets += [list(map(int, f.readline().split(',')))]\n",
    "            \n",
    "    def shouldRemove(self, row):\n",
    "        if cst(row) >= val(row):\n",
    "            return True\n",
    "        if wt(row) > self.P():\n",
    "            return True\n",
    "        if cst(row) > self.M():\n",
    "            return True\n",
    "        return False\n",
    "            \n",
    "    @timeit\n",
    "    def removePricey(self):\n",
    "        temp = []\n",
    "        efficiency = []\n",
    "        for i, row in enumerate(self.X):\n",
    "            if self.shouldRemove(row):\n",
    "                temp += [i]\n",
    "                pass\n",
    "            efficiency += [(val(row) - cst(row)) / wt(row)]\n",
    "        self.X = np.delete(self.X, temp, axis = 0)\n",
    "        self.X = np.column_stack((self.X, np.array(efficiency, dtype = 'float64').reshape((-1, 1))))\n",
    "        self.ordering = list(zip(*sorted(enumerate(efficiency), key=lambda x: x[1])[::-1]))[0]\n",
    "    \n",
    "    @timeit\n",
    "    def solve(self):\n",
    "        weight, price, resale = 0, 0, 0\n",
    "        used = []\n",
    "        for i in self.ordering:\n",
    "            if weight + wt(self.X[i]) <= self.P() and price + cst(self.X[i]) <= self.M():\n",
    "                weight += wt(self.X[i])\n",
    "                price += cst(self.X[i])\n",
    "                resale += val(self.X[i])\n",
    "                used += [i]\n",
    "        return weight, price, resale, used\n",
    "\n"
   ]
  },
  {
   "cell_type": "code",
   "execution_count": 3,
   "metadata": {
    "collapsed": false
   },
   "outputs": [
    {
     "name": "stdout",
     "output_type": "stream",
     "text": [
      "'readFile' ((<__main__.Problem object at 0x109b64278>,), {}) 29.56 sec\n",
      "'removePricey' ((<__main__.Problem object at 0x109b64278>,), {}) 0.38 sec\n",
      "'solve' ((<__main__.Problem object at 0x109b64278>,), {}) 0.15 sec\n"
     ]
    }
   ],
   "source": [
    "prob = Problem('data/problem1.in')\n",
    "prob.readFile()\n",
    "prob.removePricey()\n",
    "w, p, r, u = prob.solve()"
   ]
  },
  {
   "cell_type": "code",
   "execution_count": 4,
   "metadata": {
    "collapsed": false
   },
   "outputs": [
    {
     "name": "stdout",
     "output_type": "stream",
     "text": [
      "weight: 118434115.59999983 / 299705699.69 \n",
      "price: 48910923.71000028 / 48910923.77 \n",
      "resale: 290162561.65000015 \n",
      "profit: 241251637.93999988 \n",
      "items used: 20944 / 75069\n"
     ]
    }
   ],
   "source": [
    "print('weight: {} / {} \\nprice: {} / {} \\nresale: {} \\nprofit: {} \\nitems used: {} / {}'.format( \\\n",
    "            w, prob.P(), p, prob.M(), r, r - p, len(u), prob.N()))"
   ]
  },
  {
   "cell_type": "code",
   "execution_count": null,
   "metadata": {
    "collapsed": true
   },
   "outputs": [],
   "source": []
  }
 ],
 "metadata": {
  "anaconda-cloud": {},
  "kernelspec": {
   "display_name": "Python [default]",
   "language": "python",
   "name": "python3"
  },
  "language_info": {
   "codemirror_mode": {
    "name": "ipython",
    "version": 3
   },
   "file_extension": ".py",
   "mimetype": "text/x-python",
   "name": "python",
   "nbconvert_exporter": "python",
   "pygments_lexer": "ipython3",
   "version": "3.5.2"
  }
 },
 "nbformat": 4,
 "nbformat_minor": 2
}
