{
 "cells": [
  {
   "cell_type": "code",
   "execution_count": 133,
   "metadata": {
    "collapsed": false
   },
   "outputs": [],
   "source": [
    "import numpy as np\n",
    "import time     \n",
    "import pickle\n",
    "from cvxopt import *\n",
    "\n",
    "def timeit(method):\n",
    "\n",
    "    def timed(*args, **kw):\n",
    "        ts = time.time()\n",
    "        result = method(*args, **kw)\n",
    "        te = time.time()\n",
    "\n",
    "        print('%r %2.2f sec' % \\\n",
    "              (method.__name__, te-ts))\n",
    "        return result\n",
    "\n",
    "    return timed\n"
   ]
  },
  {
   "cell_type": "code",
   "execution_count": 190,
   "metadata": {
    "collapsed": false
   },
   "outputs": [],
   "source": [
    "def index(lst):\n",
    "    return lst[0]\n",
    "\n",
    "def clas(lst):\n",
    "    return lst[1]\n",
    "\n",
    "def wt(lst):\n",
    "    return lst[2]\n",
    "\n",
    "def cst(lst):\n",
    "    return lst[3]\n",
    "\n",
    "def val(lst):\n",
    "    return lst[4]\n",
    "\n",
    "def eff(lst):\n",
    "    return lst[5]\n",
    "\n",
    "def profit(cost, resale):\n",
    "    return resale - cost\n",
    "\n",
    "class Problem(object):\n",
    "    def __init__(self, f):\n",
    "        self.filename = f\n",
    "        self.read = False\n",
    "        self.v = [0, 0, 0, 0] # contains variables P, M, N, C\n",
    "        self.names = [] # maps index to item name\n",
    "        self.X = None # data matrix of [number, class, weight, cost, value]\n",
    "        self.sets = None # matrix of sets of incompatible classes; last 2 rows are blanks\n",
    "        self.ordering = () # indices of cut X in order of decreasing efficiency\n",
    "\n",
    "    def P(self):\n",
    "        return self.v[0]\n",
    "    \n",
    "    def M(self):\n",
    "        return self.v[1]\n",
    "    \n",
    "    def N(self):\n",
    "        return self.v[2]\n",
    "    \n",
    "    def C(self):\n",
    "        return self.v[3] \n",
    "    \n",
    "    @timeit\n",
    "    def readFile(self):\n",
    "        if self.read:\n",
    "            raise Exception('already read')\n",
    "        with open(self.filename) as f:\n",
    "            self.readVar(f)\n",
    "            self.readItems(f)\n",
    "            self.readIncomp(f)\n",
    "        self.read = True\n",
    "\n",
    "    @timeit\n",
    "    def readVar(self, f):\n",
    "        for i in range(4):\n",
    "            self.v[i] = float(f.readline())\n",
    "        self.v[2], self.v[3] = int(self.v[2]), int(self.v[3])\n",
    "            \n",
    "    @timeit\n",
    "    def readItems(self, f):\n",
    "        for i in range(self.N()):\n",
    "            x = f.readline().split(';')\n",
    "            self.names += [x[0]]\n",
    "            x[0] = i\n",
    "            x = [float(s) for s in x]\n",
    "            if i == 0:\n",
    "                self.X = np.array(x, dtype = 'float64')\n",
    "            else:\n",
    "                self.X = np.vstack((self.X, x))\n",
    "                \n",
    "    @timeit\n",
    "    def readIncomp(self, f):\n",
    "        temp = []\n",
    "        for i in range(self.C()):\n",
    "            temp += [set(int(x.strip()) for x in f.readline().split(\",\"))]\n",
    "        self.setSets(temp)\n",
    "    \n",
    "    @timeit\n",
    "    def setSets(self, lst):\n",
    "        self.sets = spmatrix(0, [0], [0], (3 * self.N() + 2, self.N()))\n",
    "        for i in range(self.N()):\n",
    "            for s in lst:\n",
    "                if i in s:\n",
    "                    self.sets[i, list(s)] = 1\n",
    "            \n",
    "    def shouldRemove(self, row):\n",
    "        if cst(row) >= val(row):\n",
    "            return True\n",
    "        if wt(row) > self.P():\n",
    "            return True\n",
    "        if cst(row) > self.M():\n",
    "            return True\n",
    "        return False\n",
    "            \n",
    "    @timeit\n",
    "    def removePricey(self):\n",
    "        temp = []\n",
    "        efficiency = []\n",
    "        for i, row in enumerate(self.X):\n",
    "            if self.shouldRemove(row):\n",
    "                temp += [i]\n",
    "                pass\n",
    "            efficiency += [(val(row) - cst(row)) / wt(row)]\n",
    "        self.X = np.delete(self.X, temp, axis = 0)\n",
    "        self.X = np.column_stack((self.X, np.array(efficiency, dtype = 'float64').reshape((-1, 1))))\n",
    "        self.ordering = list(zip(*sorted(enumerate(efficiency), key=lambda x: x[1])[::-1]))[0]\n",
    "    \n",
    "    @timeit\n",
    "    def solve(self):\n",
    "        c = - matrix(self.X[:, 4]) # negatives of prices\n",
    "        A = self.sets # set constraints, and 2 extra rows\n",
    "        A[-2, :], A[-1, :] = self.X[:, 2], self.X[:, 3] # weight, cost constraints\n",
    "        for i in range(self.N()):\n",
    "            A[self.N() + i, i] = -1 # 0 constraints\n",
    "            A[2 * self.N() + i, i] = 1 # 1 constraints\n",
    "        b = matrix([1 for _ in range(len(self.X))] + [0 for _ in range(self.N())] + [1 for _ in range(self.N())] + [self.P(), self.M()]) # set constraints, weight, cost\n",
    "#         print('c: \\n{}'.format(c))\n",
    "#         print('A: \\n{}'.format(A))\n",
    "#         print('b: \\n{}'.format((b)))\n",
    "        bound = [0, 1] # 0-1 bound x\n",
    "        res = solvers.lp(c, A, b, solver = 'glpk')\n",
    "        self.writeSol(res['x'])\n",
    "        return res\n",
    "\n",
    "    @timeit\n",
    "    def writeSol(self, x):\n",
    "        with open(self.filename.split('.')[0] + '.out', 'w') as f:\n",
    "            for i, val in enumerate(x):\n",
    "                if val >= 0.5:\n",
    "                    f.write(str(self.names[i]) + '\\n')"
   ]
  },
  {
   "cell_type": "code",
   "execution_count": 191,
   "metadata": {
    "collapsed": true
   },
   "outputs": [],
   "source": [
    "def pickleDump(p, num):\n",
    "    pickle.dump(p.v, open(\"pickled/p\" + str(num) + \"v.p\",\"wb\"))\n",
    "    pickle.dump(p.names, open(\"pickled/p\" + str(num) + \"names.p\",\"wb\"))\n",
    "    pickle.dump(p.X, open(\"pickled/p\" + str(num) + \"X.p\",\"wb\"))\n",
    "    pickle.dump(p.sets, open(\"pickled/p\" + str(num) + \"sets.p\",\"wb\"))"
   ]
  },
  {
   "cell_type": "code",
   "execution_count": 195,
   "metadata": {
    "collapsed": false
   },
   "outputs": [
    {
     "name": "stdout",
     "output_type": "stream",
     "text": [
      "'readVar' 0.00 sec\n",
      "'readItems' 30.75 sec\n",
      "'setSets' 197.68 sec\n",
      "'readIncomp' 197.72 sec\n",
      "'readFile' 228.48 sec\n"
     ]
    }
   ],
   "source": [
    "prob = Problem('data/problem1.in')\n",
    "prob.readFile()"
   ]
  },
  {
   "cell_type": "code",
   "execution_count": 193,
   "metadata": {
    "collapsed": false
   },
   "outputs": [
    {
     "name": "stdout",
     "output_type": "stream",
     "text": [
      "c: \n",
      "[-5.77e+03]\n",
      "[-1.94e+04]\n",
      "[-1.40e+04]\n",
      "[-1.71e+04]\n",
      "[-1.11e+04]\n",
      "[-1.54e+04]\n",
      "[-8.67e+03]\n",
      "[-6.33e+03]\n",
      "[-1.86e+04]\n",
      "\n",
      "A: \n",
      "[ 0.00e+00     0         0         0         0         0         0     ... ]\n",
      "[    0      1.00e+00  1.00e+00  1.00e+00  1.00e+00     0         0     ... ]\n",
      "[    0      1.00e+00  1.00e+00  1.00e+00     0         0         0     ... ]\n",
      "[    0      1.00e+00  1.00e+00  1.00e+00     0      1.00e+00  1.00e+00 ... ]\n",
      "[    0      1.00e+00     0         0      1.00e+00  1.00e+00  1.00e+00 ... ]\n",
      "[    0         0         0      1.00e+00  1.00e+00  1.00e+00  1.00e+00 ... ]\n",
      "[    0         0         0      1.00e+00  1.00e+00  1.00e+00  1.00e+00 ... ]\n",
      "[    0         0         0      1.00e+00     0      1.00e+00  1.00e+00 ... ]\n",
      "[    0         0         0         0         0         0         0     ... ]\n",
      "[-1.00e+00     0         0         0         0         0         0     ... ]\n",
      "[    0     -1.00e+00     0         0         0         0         0     ... ]\n",
      "[    0         0     -1.00e+00     0         0         0         0     ... ]\n",
      "[    0         0         0     -1.00e+00     0         0         0     ... ]\n",
      "[    0         0         0         0     -1.00e+00     0         0     ... ]\n",
      "[    0         0         0         0         0     -1.00e+00     0     ... ]\n",
      "[    0         0         0         0         0         0     -1.00e+00 ... ]\n",
      "[    0         0         0         0         0         0         0     ... ]\n",
      "[    0         0         0         0         0         0         0     ... ]\n",
      "[ 1.00e+00     0         0         0         0         0         0     ... ]\n",
      "[    0      1.00e+00     0         0         0         0         0     ... ]\n",
      "[    0         0      1.00e+00     0         0         0         0     ... ]\n",
      "[    0         0         0      1.00e+00     0         0         0     ... ]\n",
      "[    0         0         0         0      1.00e+00     0         0     ... ]\n",
      "[    0         0         0         0         0      1.00e+00     0     ... ]\n",
      "[    0         0         0         0         0         0      1.00e+00 ... ]\n",
      "[    0         0         0         0         0         0         0     ... ]\n",
      "[    0         0         0         0         0         0         0     ... ]\n",
      "[ 1.58e+04  2.35e+03  8.78e+03  9.09e+03  1.43e+04  2.90e+04  7.42e+00 ... ]\n",
      "[ 8.13e+02  6.99e+02  7.48e+02  1.76e+03  2.57e+02  9.88e+02  6.41e+02 ... ]\n",
      "\n",
      "b: \n",
      "[ 1.00e+00]\n",
      "[ 1.00e+00]\n",
      "[ 1.00e+00]\n",
      "[ 1.00e+00]\n",
      "[ 1.00e+00]\n",
      "[ 1.00e+00]\n",
      "[ 1.00e+00]\n",
      "[ 1.00e+00]\n",
      "[ 1.00e+00]\n",
      "[ 0.00e+00]\n",
      "[ 0.00e+00]\n",
      "[ 0.00e+00]\n",
      "[ 0.00e+00]\n",
      "[ 0.00e+00]\n",
      "[ 0.00e+00]\n",
      "[ 0.00e+00]\n",
      "[ 0.00e+00]\n",
      "[ 0.00e+00]\n",
      "[ 1.00e+00]\n",
      "[ 1.00e+00]\n",
      "[ 1.00e+00]\n",
      "[ 1.00e+00]\n",
      "[ 1.00e+00]\n",
      "[ 1.00e+00]\n",
      "[ 1.00e+00]\n",
      "[ 1.00e+00]\n",
      "[ 1.00e+00]\n",
      "[ 3.00e+08]\n",
      "[ 4.89e+07]\n",
      "\n",
      "'writeSol' 0.00 sec\n",
      "'solve' 0.00 sec\n"
     ]
    }
   ],
   "source": [
    "pickleDump(prob, 1)\n",
    "len(prob.X)\n",
    "b=prob.solve()"
   ]
  },
  {
   "cell_type": "code",
   "execution_count": 194,
   "metadata": {
    "collapsed": false
   },
   "outputs": [
    {
     "name": "stdout",
     "output_type": "stream",
     "text": [
      "{'dual objective': -45360.47666666667, 'gap': -1.978401146611001e-12, 'y': <0x1 matrix, tc='d'>, 'primal infeasibility': 6.332398299884861e-25, 's': <29x1 matrix, tc='d'>, 'x': <9x1 matrix, tc='d'>, 'dual infeasibility': 2.1934443287327536e-17, 'primal slack': -1.1102230246251565e-16, 'primal objective': -45360.47666666667, 'residual as primal infeasibility certificate': None, 'dual slack': -0.0, 'status': 'optimal', 'residual as dual infeasibility certificate': None, 'relative gap': -4.3615087229999e-17, 'z': <29x1 matrix, tc='d'>}\n"
     ]
    }
   ],
   "source": [
    "print(b)"
   ]
  },
  {
   "cell_type": "code",
   "execution_count": null,
   "metadata": {
    "collapsed": false
   },
   "outputs": [],
   "source": [
    "# print('weight: {} / {} \\nprice: {} / {} \\nresale: {} \\nprofit: {} \\nitems used: {} / {}'.format( \\\n",
    "#             w, prob.P(), p, prob.M(), r, r - p, len(u), prob.N()))"
   ]
  },
  {
   "cell_type": "code",
   "execution_count": null,
   "metadata": {
    "collapsed": true
   },
   "outputs": [],
   "source": []
  }
 ],
 "metadata": {
  "anaconda-cloud": {},
  "kernelspec": {
   "display_name": "Python [default]",
   "language": "python",
   "name": "python3"
  },
  "language_info": {
   "codemirror_mode": {
    "name": "ipython",
    "version": 3
   },
   "file_extension": ".py",
   "mimetype": "text/x-python",
   "name": "python",
   "nbconvert_exporter": "python",
   "pygments_lexer": "ipython3",
   "version": "3.5.2"
  }
 },
 "nbformat": 4,
 "nbformat_minor": 2
}
