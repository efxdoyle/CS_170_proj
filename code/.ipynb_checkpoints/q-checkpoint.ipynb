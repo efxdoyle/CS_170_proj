{
 "cells": [
  {
   "cell_type": "code",
   "execution_count": 32,
   "metadata": {
    "collapsed": false
   },
   "outputs": [],
   "source": [
    "import numpy as np\n",
    "import time\n",
    "import pickle\n",
    "from cvxopt import *\n",
    "\n",
    "picklepath = '../pickled/'\n",
    "writepath = '../output/'\n",
    "\n",
    "def strSplit(s, lst):\n",
    "    for r in lst:\n",
    "        s = s.replace(r, ' ')\n",
    "    return s.split()\n",
    "\n",
    "def timeit(method):\n",
    "\n",
    "    def timed(*args, **kw):\n",
    "        ts = time.time()\n",
    "        result = method(*args, **kw)\n",
    "        te = time.time()\n",
    "\n",
    "        print('%r %2.2f sec' % \\\n",
    "              (method.__name__, te-ts))\n",
    "        return result\n",
    "\n",
    "    return timed\n",
    "\n",
    "def index(lst):\n",
    "    return lst[0]\n",
    "\n",
    "def clas(lst):\n",
    "    return lst[1]\n",
    "\n",
    "def wt(lst):\n",
    "    return lst[2]\n",
    "\n",
    "def cst(lst):\n",
    "    return lst[3]\n",
    "\n",
    "def val(lst):\n",
    "    return lst[4]\n",
    "\n",
    "def eff(lst):\n",
    "    return lst[5]\n",
    "\n",
    "def profit(cost, resale):\n",
    "    return resale - cost\n",
    "\n",
    "class Problem(object):\n",
    "    def __init__(self, f):\n",
    "        self.filename = f\n",
    "        self.read = False\n",
    "        self.v = [0, 0, 0, 0] # contains variables P, M, N, C\n",
    "        self.names = [] # maps index to item name\n",
    "        self.X = None # data matrix of [number, class, weight, cost, value]\n",
    "        self.sets = None # matrix of sets of incompatible classes; last 2 rows are blanks\n",
    "        self.ordering = () # indices of cut X in order of decreasing efficiency\n",
    "\n",
    "    def P(self):\n",
    "        return self.v[0]\n",
    "\n",
    "    def M(self):\n",
    "        return self.v[1]\n",
    "\n",
    "    def N(self):\n",
    "        return self.v[2]\n",
    "\n",
    "    def C(self):\n",
    "        return self.v[3]\n",
    "\n",
    "    @timeit\n",
    "    def readFile(self):\n",
    "        if self.read:\n",
    "            raise Exception('already read')\n",
    "        with open(self.filename) as f:\n",
    "            self.readVar(f)\n",
    "            self.readItems(f)\n",
    "            self.readIncomp(f)\n",
    "        self.read = True\n",
    "\n",
    "    @timeit\n",
    "    def readVar(self, f):\n",
    "        for i in range(4):\n",
    "            self.v[i] = float(f.readline())\n",
    "        self.v[2], self.v[3] = int(self.v[2]), int(self.v[3])\n",
    "\n",
    "    @timeit\n",
    "    def readItems(self, f):\n",
    "        for i in range(self.N()):\n",
    "            x = f.readline().split(';')\n",
    "            self.names += [x[0]]\n",
    "            x[0] = i\n",
    "            x = [float(s) for s in x]\n",
    "            if i == 0:\n",
    "                self.X = np.array(x, dtype = 'float32')\n",
    "            else:\n",
    "                self.X = np.vstack((self.X, x))\n",
    "\n",
    "    @timeit\n",
    "    def readIncomp(self, f):\n",
    "        temp = []\n",
    "        for i in range(self.C()):\n",
    "            temp += [set(int(x.strip()) for x in f.readline().split(\",\"))]\n",
    "        self.setSets(temp)\n",
    "\n",
    "    @timeit\n",
    "    def setSets(self, lst):\n",
    "        self.sets = spmatrix(0, [0], [0], (self.C() + 2 * self.N() + 2, self.N()))\n",
    "        for i, s in enumerate(lst):\n",
    "            self.sets[i, [p for q in [[i for i in range(self.N()) if x == self.X[i, 1]] for x in s] for p in q]] = 1\n",
    "\n",
    "    def shouldRemove(self, row):\n",
    "        if cst(row) >= val(row):\n",
    "            return True\n",
    "        if wt(row) > self.P():\n",
    "            return True\n",
    "        if cst(row) > self.M():\n",
    "            return True\n",
    "        return False\n",
    "\n",
    "    @timeit\n",
    "    def removePricey(self):\n",
    "        temp = []\n",
    "        efficiency = []\n",
    "        for i, row in enumerate(self.X):\n",
    "            if self.shouldRemove(row):\n",
    "                temp += [i]\n",
    "                pass\n",
    "            efficiency += [(val(row) - cst(row)) / wt(row)]\n",
    "        self.X = np.delete(self.X, temp, axis = 0)\n",
    "        self.X = np.column_stack((self.X, np.array(efficiency, dtype = 'float32').reshape((-1, 1))))\n",
    "        self.ordering = list(zip(*sorted(enumerate(efficiency), key=lambda x: x[1])[::-1]))[0]\n",
    "\n",
    "    @timeit\n",
    "    def solve(self):\n",
    "        c = - matrix(self.X[:, 4]) # negatives of prices\n",
    "        A = self.sets # set constraints, and 2 extra rows\n",
    "        A[-2, :], A[-1, :] = self.X[:, 2], self.X[:, 3] # weight, cost constraints\n",
    "        for i in range(self.N()):\n",
    "            A[self.C() + i, i] = -1 # 0 constraints\n",
    "            A[self.C() + self.N() + i, i] = 1. # 1 constraints\n",
    "        b = matrix([1. for _ in range(self.C())] + [0. for _ in range(self.N())] + [1. for _ in range(self.N())] + [self.P(), self.M()]) # set constraints, weight, cost\n",
    "#         print('c: \\n{}'.format(c))\n",
    "#         print('A: \\n{}'.format(A))\n",
    "#         print('b: \\n{}'.format(b))\n",
    "        res = solvers.sdp(c, A, b)\n",
    "        self.writeSol(res['x'])\n",
    "        return res\n",
    "\n",
    "    @timeit\n",
    "    def writeSol(self, x):\n",
    "        with open(writepath + strSplit(self.filename, ['/', '.'])[-2] + '.out', 'w') as f:\n",
    "            for i, val in enumerate(x):\n",
    "                if val > 0.5:\n",
    "                    f.write(str(self.names[i]) + '\\n')\n",
    "\n",
    "@timeit\n",
    "def pickleDump(p, num):\n",
    "    pickle.dump(p.v, open(picklepath + \"p\" + str(num) + \"v.p\",\"wb\"))\n",
    "    pickle.dump(p.names, open(picklepath + \"p\" + str(num) + \"names.p\",\"wb\"))\n",
    "    pickle.dump(p.X, open(picklepath + \"p\" + str(num) + \"X.p\",\"wb\"))\n",
    "    pickle.dump(p.sets, open(picklepath + \"p\" + str(num) + \"sets.p\",\"wb\"))\n"
   ]
  },
  {
   "cell_type": "code",
   "execution_count": 33,
   "metadata": {
    "collapsed": false
   },
   "outputs": [
    {
     "name": "stdout",
     "output_type": "stream",
     "text": [
      "'readVar' 0.00 sec\n",
      "'readItems' 0.00 sec\n",
      "'setSets' 0.00 sec\n",
      "'readIncomp' 0.00 sec\n",
      "'readFile' 0.00 sec\n",
      "'pickleDump' 0.00 sec\n"
     ]
    },
    {
     "ename": "TypeError",
     "evalue": "'Gs' must be a list of sparse or dense 'd' matrices with 9 columns",
     "output_type": "error",
     "traceback": [
      "\u001b[0;31m---------------------------------------------------------------------------\u001b[0m",
      "\u001b[0;31mTypeError\u001b[0m                                 Traceback (most recent call last)",
      "\u001b[0;32m<ipython-input-33-b2652004fda7>\u001b[0m in \u001b[0;36m<module>\u001b[0;34m()\u001b[0m\n\u001b[1;32m      3\u001b[0m \u001b[0mprob\u001b[0m\u001b[0;34m.\u001b[0m\u001b[0mreadFile\u001b[0m\u001b[0;34m(\u001b[0m\u001b[0;34m)\u001b[0m\u001b[0;34m\u001b[0m\u001b[0m\n\u001b[1;32m      4\u001b[0m \u001b[0mpickleDump\u001b[0m\u001b[0;34m(\u001b[0m\u001b[0mprob\u001b[0m\u001b[0;34m,\u001b[0m \u001b[0;36m0\u001b[0m\u001b[0;34m)\u001b[0m\u001b[0;34m\u001b[0m\u001b[0m\n\u001b[0;32m----> 5\u001b[0;31m \u001b[0mb\u001b[0m\u001b[0;34m=\u001b[0m\u001b[0mprob\u001b[0m\u001b[0;34m.\u001b[0m\u001b[0msolve\u001b[0m\u001b[0;34m(\u001b[0m\u001b[0;34m)\u001b[0m\u001b[0;34m\u001b[0m\u001b[0m\n\u001b[0m",
      "\u001b[0;32m<ipython-input-32-2ff539f30cd5>\u001b[0m in \u001b[0;36mtimed\u001b[0;34m(*args, **kw)\u001b[0m\n\u001b[1;32m     16\u001b[0m     \u001b[0;32mdef\u001b[0m \u001b[0mtimed\u001b[0m\u001b[0;34m(\u001b[0m\u001b[0;34m*\u001b[0m\u001b[0margs\u001b[0m\u001b[0;34m,\u001b[0m \u001b[0;34m**\u001b[0m\u001b[0mkw\u001b[0m\u001b[0;34m)\u001b[0m\u001b[0;34m:\u001b[0m\u001b[0;34m\u001b[0m\u001b[0m\n\u001b[1;32m     17\u001b[0m         \u001b[0mts\u001b[0m \u001b[0;34m=\u001b[0m \u001b[0mtime\u001b[0m\u001b[0;34m.\u001b[0m\u001b[0mtime\u001b[0m\u001b[0;34m(\u001b[0m\u001b[0;34m)\u001b[0m\u001b[0;34m\u001b[0m\u001b[0m\n\u001b[0;32m---> 18\u001b[0;31m         \u001b[0mresult\u001b[0m \u001b[0;34m=\u001b[0m \u001b[0mmethod\u001b[0m\u001b[0;34m(\u001b[0m\u001b[0;34m*\u001b[0m\u001b[0margs\u001b[0m\u001b[0;34m,\u001b[0m \u001b[0;34m**\u001b[0m\u001b[0mkw\u001b[0m\u001b[0;34m)\u001b[0m\u001b[0;34m\u001b[0m\u001b[0m\n\u001b[0m\u001b[1;32m     19\u001b[0m         \u001b[0mte\u001b[0m \u001b[0;34m=\u001b[0m \u001b[0mtime\u001b[0m\u001b[0;34m.\u001b[0m\u001b[0mtime\u001b[0m\u001b[0;34m(\u001b[0m\u001b[0;34m)\u001b[0m\u001b[0;34m\u001b[0m\u001b[0m\n\u001b[1;32m     20\u001b[0m \u001b[0;34m\u001b[0m\u001b[0m\n",
      "\u001b[0;32m<ipython-input-32-2ff539f30cd5>\u001b[0m in \u001b[0;36msolve\u001b[0;34m(self)\u001b[0m\n\u001b[1;32m    142\u001b[0m \u001b[0;31m#         print('A: \\n{}'.format(A))\u001b[0m\u001b[0;34m\u001b[0m\u001b[0;34m\u001b[0m\u001b[0m\n\u001b[1;32m    143\u001b[0m \u001b[0;31m#         print('b: \\n{}'.format(b))\u001b[0m\u001b[0;34m\u001b[0m\u001b[0;34m\u001b[0m\u001b[0m\n\u001b[0;32m--> 144\u001b[0;31m         \u001b[0mres\u001b[0m \u001b[0;34m=\u001b[0m \u001b[0msolvers\u001b[0m\u001b[0;34m.\u001b[0m\u001b[0msdp\u001b[0m\u001b[0;34m(\u001b[0m\u001b[0mc\u001b[0m\u001b[0;34m,\u001b[0m \u001b[0mGs\u001b[0m \u001b[0;34m=\u001b[0m \u001b[0mA\u001b[0m\u001b[0;34m,\u001b[0m \u001b[0mhs\u001b[0m \u001b[0;34m=\u001b[0m \u001b[0mb\u001b[0m\u001b[0;34m)\u001b[0m\u001b[0;34m\u001b[0m\u001b[0m\n\u001b[0m\u001b[1;32m    145\u001b[0m         \u001b[0mself\u001b[0m\u001b[0;34m.\u001b[0m\u001b[0mwriteSol\u001b[0m\u001b[0;34m(\u001b[0m\u001b[0mres\u001b[0m\u001b[0;34m[\u001b[0m\u001b[0;34m'x'\u001b[0m\u001b[0;34m]\u001b[0m\u001b[0;34m)\u001b[0m\u001b[0;34m\u001b[0m\u001b[0m\n\u001b[1;32m    146\u001b[0m         \u001b[0;32mreturn\u001b[0m \u001b[0mres\u001b[0m\u001b[0;34m\u001b[0m\u001b[0m\n",
      "\u001b[0;32m/Users/Eddie/anaconda/lib/python3.5/site-packages/cvxopt/coneprog.py\u001b[0m in \u001b[0;36msdp\u001b[0;34m(c, Gl, hl, Gs, hs, A, b, kktsolver, solver, primalstart, dualstart, options, **kwargs)\u001b[0m\n\u001b[1;32m   3854\u001b[0m       or G.typecode != 'd' or G.size[1] != n ]:\n\u001b[1;32m   3855\u001b[0m         raise TypeError(\"'Gs' must be a list of sparse or dense 'd' \"\\\n\u001b[0;32m-> 3856\u001b[0;31m             \"matrices with %d columns\" %n)\n\u001b[0m\u001b[1;32m   3857\u001b[0m     \u001b[0mms\u001b[0m \u001b[0;34m=\u001b[0m \u001b[0;34m[\u001b[0m \u001b[0mint\u001b[0m\u001b[0;34m(\u001b[0m\u001b[0mmath\u001b[0m\u001b[0;34m.\u001b[0m\u001b[0msqrt\u001b[0m\u001b[0;34m(\u001b[0m\u001b[0mG\u001b[0m\u001b[0;34m.\u001b[0m\u001b[0msize\u001b[0m\u001b[0;34m[\u001b[0m\u001b[0;36m0\u001b[0m\u001b[0;34m]\u001b[0m\u001b[0;34m)\u001b[0m\u001b[0;34m)\u001b[0m \u001b[0;32mfor\u001b[0m \u001b[0mG\u001b[0m \u001b[0;32min\u001b[0m \u001b[0mGs\u001b[0m \u001b[0;34m]\u001b[0m\u001b[0;34m\u001b[0m\u001b[0m\n\u001b[1;32m   3858\u001b[0m     \u001b[0ma\u001b[0m \u001b[0;34m=\u001b[0m \u001b[0;34m[\u001b[0m \u001b[0mk\u001b[0m \u001b[0;32mfor\u001b[0m \u001b[0mk\u001b[0m \u001b[0;32min\u001b[0m \u001b[0mrange\u001b[0m\u001b[0;34m(\u001b[0m\u001b[0mlen\u001b[0m\u001b[0;34m(\u001b[0m\u001b[0mms\u001b[0m\u001b[0;34m)\u001b[0m\u001b[0;34m)\u001b[0m \u001b[0;32mif\u001b[0m \u001b[0mms\u001b[0m\u001b[0;34m[\u001b[0m\u001b[0mk\u001b[0m\u001b[0;34m]\u001b[0m\u001b[0;34m**\u001b[0m\u001b[0;36m2\u001b[0m \u001b[0;34m!=\u001b[0m \u001b[0mGs\u001b[0m\u001b[0;34m[\u001b[0m\u001b[0mk\u001b[0m\u001b[0;34m]\u001b[0m\u001b[0;34m.\u001b[0m\u001b[0msize\u001b[0m\u001b[0;34m[\u001b[0m\u001b[0;36m0\u001b[0m\u001b[0;34m]\u001b[0m \u001b[0;34m]\u001b[0m\u001b[0;34m\u001b[0m\u001b[0m\n",
      "\u001b[0;31mTypeError\u001b[0m: 'Gs' must be a list of sparse or dense 'd' matrices with 9 columns"
     ]
    }
   ],
   "source": [
    "datapath = '../data/'\n",
    "prob = Problem(datapath + 'problem' + str(0) + '.in')\n",
    "prob.readFile()\n",
    "pickleDump(prob, 0)\n",
    "b=prob.solve()"
   ]
  },
  {
   "cell_type": "code",
   "execution_count": null,
   "metadata": {
    "collapsed": false
   },
   "outputs": [],
   "source": [
    "# pickleDump(prob, 1)\n",
    "# b=prob.solve()"
   ]
  },
  {
   "cell_type": "code",
   "execution_count": 29,
   "metadata": {
    "collapsed": false
   },
   "outputs": [
    {
     "data": {
      "text/plain": [
       "{'dual infeasibility': None,\n",
       " 'dual objective': None,\n",
       " 'dual slack': None,\n",
       " 'gap': None,\n",
       " 'iterations': 0,\n",
       " 'primal infeasibility': None,\n",
       " 'primal objective': -1.0,\n",
       " 'primal slack': 4.4740841779001995e-09,\n",
       " 'relative gap': None,\n",
       " 'residual as dual infeasibility certificate': 4.474241722033098e-09,\n",
       " 'residual as primal infeasibility certificate': None,\n",
       " 'sl': <27x1 matrix, tc='d'>,\n",
       " 'ss': [],\n",
       " 'status': 'dual infeasible',\n",
       " 'x': <9x1 matrix, tc='d'>,\n",
       " 'y': None,\n",
       " 'zl': None,\n",
       " 'zs': None}"
      ]
     },
     "execution_count": 29,
     "metadata": {},
     "output_type": "execute_result"
    }
   ],
   "source": [
    "b"
   ]
  },
  {
   "cell_type": "code",
   "execution_count": null,
   "metadata": {
    "collapsed": false
   },
   "outputs": [],
   "source": [
    "# print('weight: {} / {} \\nprice: {} / {} \\nresale: {} \\nprofit: {} \\nitems used: {} / {}'.format( \\\n",
    "#             w, prob.P(), p, prob.M(), r, r - p, len(u), prob.N()))"
   ]
  },
  {
   "cell_type": "code",
   "execution_count": null,
   "metadata": {
    "collapsed": true
   },
   "outputs": [],
   "source": []
  }
 ],
 "metadata": {
  "anaconda-cloud": {},
  "kernelspec": {
   "display_name": "Python [default]",
   "language": "python",
   "name": "python3"
  },
  "language_info": {
   "codemirror_mode": {
    "name": "ipython",
    "version": 3
   },
   "file_extension": ".py",
   "mimetype": "text/x-python",
   "name": "python",
   "nbconvert_exporter": "python",
   "pygments_lexer": "ipython3",
   "version": "3.5.2"
  }
 },
 "nbformat": 4,
 "nbformat_minor": 2
}
